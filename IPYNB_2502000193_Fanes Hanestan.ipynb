{
  "nbformat": 4,
  "nbformat_minor": 0,
  "metadata": {
    "colab": {
      "provenance": []
    },
    "kernelspec": {
      "name": "python3",
      "display_name": "Python 3"
    },
    "language_info": {
      "name": "python"
    }
  },
  "cells": [
    {
      "cell_type": "markdown",
      "source": [
        "LINK VIDEO:\n",
        "https://drive.google.com/file/d/12tRBnlociu2tiJ8LyA5R1GCo0rXYsTEq/view?usp=sharing"
      ],
      "metadata": {
        "id": "vOE3PEZOwFQm"
      }
    },
    {
      "cell_type": "markdown",
      "source": [
        "LINK BACKUP: https://binusianorg-my.sharepoint.com/personal/fanes_hanestan_binus_ac_id/Documents/2502000193_Text%20Mining.mp4?csf=1&web=1&nav=eyJyZWZlcnJhbEluZm8iOnsicmVmZXJyYWxBcHAiOiJPbmVEcml2ZUZvckJ1c2luZXNzIiwicmVmZXJyYWxBcHBQbGF0Zm9ybSI6IldlYiIsInJlZmVycmFsTW9kZSI6InZpZXciLCJyZWZlcnJhbFZpZXciOiJNeUZpbGVzTGlua0RpcmVjdCJ9fQ&e=MeDBoS"
      ],
      "metadata": {
        "id": "0oasG_MSxRWN"
      }
    },
    {
      "cell_type": "markdown",
      "source": [
        "#Import Library"
      ],
      "metadata": {
        "id": "bxh8qK_VKSKS"
      }
    },
    {
      "cell_type": "code",
      "source": [
        "import requests\n",
        "from bs4 import BeautifulSoup\n",
        "import pandas as pd\n",
        "from sklearn.model_selection import train_test_split\n",
        "from sklearn.svm import SVC\n",
        "from sklearn.ensemble import RandomForestClassifier\n",
        "from sklearn.metrics import accuracy_score, classification_report\n",
        "from sklearn.feature_extraction.text import TfidfVectorizer\n",
        "import string\n",
        "import re\n",
        "import nltk\n",
        "from nltk.corpus import stopwords\n",
        "from nltk.stem import WordNetLemmatizer"
      ],
      "metadata": {
        "id": "wbstSsIB477c"
      },
      "execution_count": 1,
      "outputs": []
    },
    {
      "cell_type": "markdown",
      "source": [
        "#Extract Text from News Link"
      ],
      "metadata": {
        "id": "G05nR18gKVfP"
      }
    },
    {
      "cell_type": "code",
      "source": [
        "def class_media(media):\n",
        "    if media == 'CNN Indonesia':\n",
        "        return 'detail-text'\n",
        "    elif media == 'Liputan6':\n",
        "        return 'read-page--content'\n",
        "    elif media == 'Kompas':\n",
        "        return 'read__content'\n",
        "    elif media == 'CNBC Indonesia':\n",
        "        return 'detail_wrap'\n",
        "    else:\n",
        "        return ''"
      ],
      "metadata": {
        "id": "jZvIWgWGNHWI"
      },
      "execution_count": 2,
      "outputs": []
    },
    {
      "cell_type": "code",
      "source": [
        "#sesuai di soal, kita harus mengambil link berita dari berbagai sumber\n",
        "\n",
        "# Total yang diambil adalah:\n",
        "# CNN = 2 x 3(topik) = 6 berita\n",
        "# Liputan6 = 2 x 3 = 6 berita\n",
        "# Kompas = 2 x 3 = 6 berita\n",
        "# CNBC Indonesia = 2 x 3 = 6 berita\n",
        "# SUM(berita) = 24 berita\n",
        "\n",
        "link = {\n",
        "    'https://www.cnnindonesia.com/olahraga/20231031111217-170-1018035/dua-sisi-jonatan-christie#anchor': {'Media': 'CNN Indonesia', 'Label': 'Olahraga'},\n",
        "    'https://www.cnnindonesia.com/olahraga/20231105160145-178-1020246/klasemen-liga-voli-korea-usai-megawati-bawa-red-sparks-sikat-ai': {'Media': 'CNN Indonesia', 'Label': 'Olahraga'},\n",
        "    'https://www.cnnindonesia.com/nasional/20231108142334-617-1021530/bobby-nasution-hadir-di-acara-deklarasi-dukung-prabowo-gibran': {'Media': 'CNN Indonesia', 'Label': 'Politik'},\n",
        "    'https://www.cnnindonesia.com/nasional/20231108092234-617-1021356/tkn-prabowo-sambut-baik-putusan-mkmk':{'Media': 'CNN Indonesia', 'Label': 'Politik'},\n",
        "    'https://www.cnnindonesia.com/hiburan/20231108073048-220-1021340/sinopsis-the-marvels-trio-superhero-perempuan-bersatu-lawan-dar-benn': {'Media': 'CNN Indonesia', 'Label': 'Hiburan'},\n",
        "    'https://www.cnnindonesia.com/hiburan/20231108082925-220-1021350/friends-alami-lonjakan-streaming-usai-kematian-matthew-perry': {'Media': 'CNN Indonesia', 'Label': 'Hiburan'},\n",
        "    'https://www.liputan6.com/bola/read/5446924/nostalgia-fiba-world-cup-2023-penjualan-final-dbl-jakarta-di-indonesia-arena-nyaris-ludes': {'Media': 'Liputan6', 'Label': 'Olahraga'},\n",
        "    'https://www.liputan6.com/bola/read/5446920/indonesia-bidik-tiket-olimpiade-paris-2024-di-kejuaraan-panjat-tebing-ifsc-asia-qualifier': {'Media': 'Liputan6', 'Label': 'Olahraga'},\n",
        "    'https://www.liputan6.com/showbiz/read/5446901/lee-junho-beri-bocoran-soal-fan-meeting-di-indonesia-pada-25-november': {'Media': 'Liputan6', 'Label': 'Hiburan'},\n",
        "    'https://www.liputan6.com/showbiz/read/5444951/ayu-ting-ting-pamer-momen-aktor-the-worst-of-evil-wi-ha-joon-terciduk-dua-kali-like-instagram-story-nya':{'Media': 'Liputan6', 'Label': 'Hiburan'},\n",
        "    'https://www.liputan6.com/news/read/5445021/golkar-sebut-jokowi-prabowo-dan-gibran-akan-hadiri-acara-hut-ke-59-besok': {'Media': 'Liputan6', 'Label': 'Politik'},\n",
        "    'https://www.liputan6.com/pemilu/read/5444959/hasto-minta-tkd-ganjar-mahfud-gencarkan-sosialisasi-dansa-politik-nasional-jangan-jadi-pengganggu': {'Media': 'Liputan6', 'Label': 'Politik'},\n",
        "    'https://entertainment.kompas.com/read/2023/11/07/155402166/wyatt-russell-monarch-legacy-of-monsters-adalah-puncak-hiburan':{'Media': 'Kompas', 'Label': 'Hiburan'},\n",
        "    'https://www.kompas.com/hype/read/2023/10/03/110546666/jessica-mila-kurangi-pekerjaan-di-dunia-hiburan-dan-siapkan-diri-jadi-ibu':{'Media': 'Kompas', 'Label': 'Hiburan'},\n",
        "    'https://www.kompas.com/badminton/read/2023/11/08/07390068/jadwal-korea-masters-2023--mulai-08.00-wib-tersaji-duel-merah-putih': {'Media': 'Kompas', 'Label': 'Olahraga'},\n",
        "    'https://www.kompas.com/badminton/read/2023/11/07/17132868/kevin-rahmat-debut-di-korea-masters-2023-sempat-kagok-gim-kedua-lebih': {'Media': 'Kompas', 'Label': 'Olahraga'},\n",
        "    'https://nasional.kompas.com/read/2023/11/02/15415601/jokowi-banyak-yang-berpikir-tahun-depan-ikn-jadi-siapa-yang-ngomong': {'Media': 'Kompas', 'Label': 'Politik'},\n",
        "    'https://nasional.kompas.com/read/2023/11/01/15434061/jajaran-menteri-jokowi-yang-blak-blakan-dukung-prabowo-gibran-siapa-saja?page=all': {'Media': 'Kompas', 'Label': 'Politik'},\n",
        "    'https://www.cnbcindonesia.com/news/20210310131300-4-229236/karaoke-bakal-buka-lagi-di-dki-pengusaha-habis-lebaran': {'Media': 'CNBC Indonesia', 'Label': 'Hiburan'},\n",
        "    'https://www.cnbcindonesia.com/tech/20231027061220-37-484093/wota-bersiap-zee-freya-jkt48-bakal-ramaikan-shopee-live': {'Media': 'CNBC Indonesia', 'Label': 'Hiburan'},\n",
        "    'https://www.cnbcindonesia.com/news/20231023151723-4-482905/wtc-mangga-dua-jadi-lapangan-bulutangkis-inikah-pemicunya': {'Media': 'CNBC Indonesia', 'Label': 'Olahraga'},\n",
        "    'https://www.cnbcindonesia.com/lifestyle/20231006090620-33-478386/update-asian-games-2023-badminton-ri-cetak-sejarah-terburuk': {'Media': 'CNBC Indonesia', 'Label': 'Olahraga'},\n",
        "    'https://www.cnbcindonesia.com/news/20231103135005-4-486172/media-asing-soroti-politik-dinasti-di-asean-sebut-pemilu-ri': {'Media': 'CNBC Indonesia', 'Label': 'Politik'},\n",
        "    'https://www.cnbcindonesia.com/news/20230810192036-4-462017/punya-32-juta-pengikut-sosok-cawapres-anies-ini-buka-suara': {'Media': 'CNBC Indonesia', 'Label': 'Politik'}\n",
        "\n",
        "}\n"
      ],
      "metadata": {
        "id": "SBVPoekp9U3R"
      },
      "execution_count": 3,
      "outputs": []
    },
    {
      "cell_type": "code",
      "source": [
        "array = []\n",
        "\n",
        "# Function mengambil text dari URL\n",
        "def extract_text_content(url, class_name):\n",
        "    response = requests.get(url)\n",
        "    html_content = response.text\n",
        "    soup = BeautifulSoup(html_content, 'html.parser')\n",
        "    #kita harus mengambil teks yang didalam 'div' agar tidak mengambil teks lainnya\n",
        "    div = soup.find('div', class_=class_name)\n",
        "    if div:\n",
        "      #jika textnya bukan berada di 'p' artinya kita tidak butuh text tersebut.\n",
        "        paragraphs = div.find_all('p')\n",
        "        paragraph_texts = [p.get_text(strip=True) for p in paragraphs]\n",
        "\n",
        "        for p in paragraphs:\n",
        "            paragraph_text = p.get_text(strip=True) + ' '\n",
        "            paragraph_texts.append(paragraph_text)\n",
        "\n",
        "        text_data = ' '.join(paragraph_texts)\n",
        "    else:\n",
        "        text_data = ''\n",
        "\n",
        "    return text_data\n",
        "\n",
        "for url, info in link.items():\n",
        "    class_name = class_media(info['Media'])\n",
        "    text_content = extract_text_content(url, class_name)\n",
        "    #kita append agar bisa masukan ke csv\n",
        "    array.append({'URL': url, 'Text': text_content, 'Media': info['Media'], 'Label': info['Label']})"
      ],
      "metadata": {
        "id": "dhk6RKYuKZed"
      },
      "execution_count": 4,
      "outputs": []
    },
    {
      "cell_type": "code",
      "source": [
        "data = pd.DataFrame(array)"
      ],
      "metadata": {
        "id": "OEpEWnby_pvR"
      },
      "execution_count": 5,
      "outputs": []
    },
    {
      "cell_type": "code",
      "source": [
        "data.head()"
      ],
      "metadata": {
        "id": "6-stuZ5oMzXX",
        "colab": {
          "base_uri": "https://localhost:8080/",
          "height": 206
        },
        "outputId": "43272ec4-e7c7-4c43-8b65-e7fe42ddd8c9"
      },
      "execution_count": 6,
      "outputs": [
        {
          "output_type": "execute_result",
          "data": {
            "text/plain": [
              "                                                 URL  \\\n",
              "0  https://www.cnnindonesia.com/olahraga/20231031...   \n",
              "1  https://www.cnnindonesia.com/olahraga/20231105...   \n",
              "2  https://www.cnnindonesia.com/nasional/20231108...   \n",
              "3  https://www.cnnindonesia.com/nasional/20231108...   \n",
              "4  https://www.cnnindonesia.com/hiburan/202311080...   \n",
              "\n",
              "                                                Text          Media     Label  \n",
              "0  Jonatan Christiemendapat banyak kritikan di 20...  CNN Indonesia  Olahraga  \n",
              "1  KemenanganDaejeon Jung KwanJang Red Sparksatas...  CNN Indonesia  Olahraga  \n",
              "2  Wali Kota MedanBobby Nasutionhadir dalam acara...  CNN Indonesia   Politik  \n",
              "3  Wakil Komandan Echo (Hukum dan Advokasi) Tim K...  CNN Indonesia   Politik  \n",
              "4  The Marvelsmerupakan film yang melanjutkan sal...  CNN Indonesia   Hiburan  "
            ],
            "text/html": [
              "\n",
              "  <div id=\"df-2c2053cd-2f19-4ed8-9fc0-50b811eaf5b1\" class=\"colab-df-container\">\n",
              "    <div>\n",
              "<style scoped>\n",
              "    .dataframe tbody tr th:only-of-type {\n",
              "        vertical-align: middle;\n",
              "    }\n",
              "\n",
              "    .dataframe tbody tr th {\n",
              "        vertical-align: top;\n",
              "    }\n",
              "\n",
              "    .dataframe thead th {\n",
              "        text-align: right;\n",
              "    }\n",
              "</style>\n",
              "<table border=\"1\" class=\"dataframe\">\n",
              "  <thead>\n",
              "    <tr style=\"text-align: right;\">\n",
              "      <th></th>\n",
              "      <th>URL</th>\n",
              "      <th>Text</th>\n",
              "      <th>Media</th>\n",
              "      <th>Label</th>\n",
              "    </tr>\n",
              "  </thead>\n",
              "  <tbody>\n",
              "    <tr>\n",
              "      <th>0</th>\n",
              "      <td>https://www.cnnindonesia.com/olahraga/20231031...</td>\n",
              "      <td>Jonatan Christiemendapat banyak kritikan di 20...</td>\n",
              "      <td>CNN Indonesia</td>\n",
              "      <td>Olahraga</td>\n",
              "    </tr>\n",
              "    <tr>\n",
              "      <th>1</th>\n",
              "      <td>https://www.cnnindonesia.com/olahraga/20231105...</td>\n",
              "      <td>KemenanganDaejeon Jung KwanJang Red Sparksatas...</td>\n",
              "      <td>CNN Indonesia</td>\n",
              "      <td>Olahraga</td>\n",
              "    </tr>\n",
              "    <tr>\n",
              "      <th>2</th>\n",
              "      <td>https://www.cnnindonesia.com/nasional/20231108...</td>\n",
              "      <td>Wali Kota MedanBobby Nasutionhadir dalam acara...</td>\n",
              "      <td>CNN Indonesia</td>\n",
              "      <td>Politik</td>\n",
              "    </tr>\n",
              "    <tr>\n",
              "      <th>3</th>\n",
              "      <td>https://www.cnnindonesia.com/nasional/20231108...</td>\n",
              "      <td>Wakil Komandan Echo (Hukum dan Advokasi) Tim K...</td>\n",
              "      <td>CNN Indonesia</td>\n",
              "      <td>Politik</td>\n",
              "    </tr>\n",
              "    <tr>\n",
              "      <th>4</th>\n",
              "      <td>https://www.cnnindonesia.com/hiburan/202311080...</td>\n",
              "      <td>The Marvelsmerupakan film yang melanjutkan sal...</td>\n",
              "      <td>CNN Indonesia</td>\n",
              "      <td>Hiburan</td>\n",
              "    </tr>\n",
              "  </tbody>\n",
              "</table>\n",
              "</div>\n",
              "    <div class=\"colab-df-buttons\">\n",
              "\n",
              "  <div class=\"colab-df-container\">\n",
              "    <button class=\"colab-df-convert\" onclick=\"convertToInteractive('df-2c2053cd-2f19-4ed8-9fc0-50b811eaf5b1')\"\n",
              "            title=\"Convert this dataframe to an interactive table.\"\n",
              "            style=\"display:none;\">\n",
              "\n",
              "  <svg xmlns=\"http://www.w3.org/2000/svg\" height=\"24px\" viewBox=\"0 -960 960 960\">\n",
              "    <path d=\"M120-120v-720h720v720H120Zm60-500h600v-160H180v160Zm220 220h160v-160H400v160Zm0 220h160v-160H400v160ZM180-400h160v-160H180v160Zm440 0h160v-160H620v160ZM180-180h160v-160H180v160Zm440 0h160v-160H620v160Z\"/>\n",
              "  </svg>\n",
              "    </button>\n",
              "\n",
              "  <style>\n",
              "    .colab-df-container {\n",
              "      display:flex;\n",
              "      gap: 12px;\n",
              "    }\n",
              "\n",
              "    .colab-df-convert {\n",
              "      background-color: #E8F0FE;\n",
              "      border: none;\n",
              "      border-radius: 50%;\n",
              "      cursor: pointer;\n",
              "      display: none;\n",
              "      fill: #1967D2;\n",
              "      height: 32px;\n",
              "      padding: 0 0 0 0;\n",
              "      width: 32px;\n",
              "    }\n",
              "\n",
              "    .colab-df-convert:hover {\n",
              "      background-color: #E2EBFA;\n",
              "      box-shadow: 0px 1px 2px rgba(60, 64, 67, 0.3), 0px 1px 3px 1px rgba(60, 64, 67, 0.15);\n",
              "      fill: #174EA6;\n",
              "    }\n",
              "\n",
              "    .colab-df-buttons div {\n",
              "      margin-bottom: 4px;\n",
              "    }\n",
              "\n",
              "    [theme=dark] .colab-df-convert {\n",
              "      background-color: #3B4455;\n",
              "      fill: #D2E3FC;\n",
              "    }\n",
              "\n",
              "    [theme=dark] .colab-df-convert:hover {\n",
              "      background-color: #434B5C;\n",
              "      box-shadow: 0px 1px 3px 1px rgba(0, 0, 0, 0.15);\n",
              "      filter: drop-shadow(0px 1px 2px rgba(0, 0, 0, 0.3));\n",
              "      fill: #FFFFFF;\n",
              "    }\n",
              "  </style>\n",
              "\n",
              "    <script>\n",
              "      const buttonEl =\n",
              "        document.querySelector('#df-2c2053cd-2f19-4ed8-9fc0-50b811eaf5b1 button.colab-df-convert');\n",
              "      buttonEl.style.display =\n",
              "        google.colab.kernel.accessAllowed ? 'block' : 'none';\n",
              "\n",
              "      async function convertToInteractive(key) {\n",
              "        const element = document.querySelector('#df-2c2053cd-2f19-4ed8-9fc0-50b811eaf5b1');\n",
              "        const dataTable =\n",
              "          await google.colab.kernel.invokeFunction('convertToInteractive',\n",
              "                                                    [key], {});\n",
              "        if (!dataTable) return;\n",
              "\n",
              "        const docLinkHtml = 'Like what you see? Visit the ' +\n",
              "          '<a target=\"_blank\" href=https://colab.research.google.com/notebooks/data_table.ipynb>data table notebook</a>'\n",
              "          + ' to learn more about interactive tables.';\n",
              "        element.innerHTML = '';\n",
              "        dataTable['output_type'] = 'display_data';\n",
              "        await google.colab.output.renderOutput(dataTable, element);\n",
              "        const docLink = document.createElement('div');\n",
              "        docLink.innerHTML = docLinkHtml;\n",
              "        element.appendChild(docLink);\n",
              "      }\n",
              "    </script>\n",
              "  </div>\n",
              "\n",
              "\n",
              "<div id=\"df-1b85aa66-30a8-4b88-8bf9-5dda47a7e10f\">\n",
              "  <button class=\"colab-df-quickchart\" onclick=\"quickchart('df-1b85aa66-30a8-4b88-8bf9-5dda47a7e10f')\"\n",
              "            title=\"Suggest charts\"\n",
              "            style=\"display:none;\">\n",
              "\n",
              "<svg xmlns=\"http://www.w3.org/2000/svg\" height=\"24px\"viewBox=\"0 0 24 24\"\n",
              "     width=\"24px\">\n",
              "    <g>\n",
              "        <path d=\"M19 3H5c-1.1 0-2 .9-2 2v14c0 1.1.9 2 2 2h14c1.1 0 2-.9 2-2V5c0-1.1-.9-2-2-2zM9 17H7v-7h2v7zm4 0h-2V7h2v10zm4 0h-2v-4h2v4z\"/>\n",
              "    </g>\n",
              "</svg>\n",
              "  </button>\n",
              "\n",
              "<style>\n",
              "  .colab-df-quickchart {\n",
              "      --bg-color: #E8F0FE;\n",
              "      --fill-color: #1967D2;\n",
              "      --hover-bg-color: #E2EBFA;\n",
              "      --hover-fill-color: #174EA6;\n",
              "      --disabled-fill-color: #AAA;\n",
              "      --disabled-bg-color: #DDD;\n",
              "  }\n",
              "\n",
              "  [theme=dark] .colab-df-quickchart {\n",
              "      --bg-color: #3B4455;\n",
              "      --fill-color: #D2E3FC;\n",
              "      --hover-bg-color: #434B5C;\n",
              "      --hover-fill-color: #FFFFFF;\n",
              "      --disabled-bg-color: #3B4455;\n",
              "      --disabled-fill-color: #666;\n",
              "  }\n",
              "\n",
              "  .colab-df-quickchart {\n",
              "    background-color: var(--bg-color);\n",
              "    border: none;\n",
              "    border-radius: 50%;\n",
              "    cursor: pointer;\n",
              "    display: none;\n",
              "    fill: var(--fill-color);\n",
              "    height: 32px;\n",
              "    padding: 0;\n",
              "    width: 32px;\n",
              "  }\n",
              "\n",
              "  .colab-df-quickchart:hover {\n",
              "    background-color: var(--hover-bg-color);\n",
              "    box-shadow: 0 1px 2px rgba(60, 64, 67, 0.3), 0 1px 3px 1px rgba(60, 64, 67, 0.15);\n",
              "    fill: var(--button-hover-fill-color);\n",
              "  }\n",
              "\n",
              "  .colab-df-quickchart-complete:disabled,\n",
              "  .colab-df-quickchart-complete:disabled:hover {\n",
              "    background-color: var(--disabled-bg-color);\n",
              "    fill: var(--disabled-fill-color);\n",
              "    box-shadow: none;\n",
              "  }\n",
              "\n",
              "  .colab-df-spinner {\n",
              "    border: 2px solid var(--fill-color);\n",
              "    border-color: transparent;\n",
              "    border-bottom-color: var(--fill-color);\n",
              "    animation:\n",
              "      spin 1s steps(1) infinite;\n",
              "  }\n",
              "\n",
              "  @keyframes spin {\n",
              "    0% {\n",
              "      border-color: transparent;\n",
              "      border-bottom-color: var(--fill-color);\n",
              "      border-left-color: var(--fill-color);\n",
              "    }\n",
              "    20% {\n",
              "      border-color: transparent;\n",
              "      border-left-color: var(--fill-color);\n",
              "      border-top-color: var(--fill-color);\n",
              "    }\n",
              "    30% {\n",
              "      border-color: transparent;\n",
              "      border-left-color: var(--fill-color);\n",
              "      border-top-color: var(--fill-color);\n",
              "      border-right-color: var(--fill-color);\n",
              "    }\n",
              "    40% {\n",
              "      border-color: transparent;\n",
              "      border-right-color: var(--fill-color);\n",
              "      border-top-color: var(--fill-color);\n",
              "    }\n",
              "    60% {\n",
              "      border-color: transparent;\n",
              "      border-right-color: var(--fill-color);\n",
              "    }\n",
              "    80% {\n",
              "      border-color: transparent;\n",
              "      border-right-color: var(--fill-color);\n",
              "      border-bottom-color: var(--fill-color);\n",
              "    }\n",
              "    90% {\n",
              "      border-color: transparent;\n",
              "      border-bottom-color: var(--fill-color);\n",
              "    }\n",
              "  }\n",
              "</style>\n",
              "\n",
              "  <script>\n",
              "    async function quickchart(key) {\n",
              "      const quickchartButtonEl =\n",
              "        document.querySelector('#' + key + ' button');\n",
              "      quickchartButtonEl.disabled = true;  // To prevent multiple clicks.\n",
              "      quickchartButtonEl.classList.add('colab-df-spinner');\n",
              "      try {\n",
              "        const charts = await google.colab.kernel.invokeFunction(\n",
              "            'suggestCharts', [key], {});\n",
              "      } catch (error) {\n",
              "        console.error('Error during call to suggestCharts:', error);\n",
              "      }\n",
              "      quickchartButtonEl.classList.remove('colab-df-spinner');\n",
              "      quickchartButtonEl.classList.add('colab-df-quickchart-complete');\n",
              "    }\n",
              "    (() => {\n",
              "      let quickchartButtonEl =\n",
              "        document.querySelector('#df-1b85aa66-30a8-4b88-8bf9-5dda47a7e10f button');\n",
              "      quickchartButtonEl.style.display =\n",
              "        google.colab.kernel.accessAllowed ? 'block' : 'none';\n",
              "    })();\n",
              "  </script>\n",
              "</div>\n",
              "    </div>\n",
              "  </div>\n"
            ]
          },
          "metadata": {},
          "execution_count": 6
        }
      ]
    },
    {
      "cell_type": "code",
      "source": [
        "data['Text'][12]"
      ],
      "metadata": {
        "id": "FRh9Qstv9sQI",
        "colab": {
          "base_uri": "https://localhost:8080/",
          "height": 122
        },
        "outputId": "139707ce-dc04-4f97-c8a1-e7a0764f3c7f"
      },
      "execution_count": 7,
      "outputs": [
        {
          "output_type": "execute_result",
          "data": {
            "text/plain": [
              "' KOMPAS.com-Monarch: Legacy of Monstersakan menjadi serialspin-offdari waralaba Godzilla yang bakal dirilis oleh Apple TV+ pada 17 November 2023. Serial tersebut juga baru saja merilis Inside Look melalui video yang diunggah oleh akun YouTube Apple TV+ pada Minggu (5/11/2023) lalu. Pemeran karakter Lee Shaw muda, Wyatt Russel, mengatakan Monarch: Legacy of Monsters merupakan sebuah puncak hiburan. Baca juga:Monarch: Legacy of Monsters Tampilkan Kaiju-kaiju Baru “Ini adalah puncak hiburan, ada aksi dan kegembiraan,” ujar Wyatt Russel dalam wawancaranya itu. Selain mengungkapkan hal tersebut, Wyatt juga menyatakan serial teranyarnya ini akan diisi oleh berbagai varian Kaiju baru. Sejauh yang diketahui, Kaiju yang menyerupai laba-laba raksasa hingga goliat bernapas es yang sebelumnya tak pernah muncul dalam waralaba Godzilla juga akan terlihat dalam serial ini. “Semua monster ini sangat degil, saya akan mengatakan itu,” sambung aktor itu. Baca juga:Apple TV+ Keluarkan Trailer Resmi Monarch: Legacy of Monsters Selain Wyatt, wawancara tersebut juga menghadirkan Chris Black selaku produser eksekutif dari Monarch: Legacy of Monsters. Dalam wawancaranya, Black mengungkapkan serial Monarch garapannya itu akan membuat para penggemar baru tertarik untuk menyaksikannya. “Penggemar baru akan menonton ini dan berkata – wow, inilah cerita yang membuat saya tertarik,” ujar produser tersebut. Baca juga:Jadwal Tayang, Pemeran, dan Alur Monarch: Legacy of Monsters Tak hanya bagi penggemar baru, Black juga mengatakan serialnya ini dapat membuat para pengikutMonsterversedapat mengenali sebuah dunia yang akrab dengan mereka. “Penonton yang menyukai Monsterverse akan melihat dunia yang mereka kenali” ungkap Chris Black. “Merupakan sebuah kehormatan untuk diundang oleh teman dan kolaborator kami di Toho dan Legendary untuk bermain di alam Monsterverse ini” tutupnya.    KOMPAS.com-Monarch: Legacy of Monstersakan menjadi serialspin-offdari waralaba Godzilla yang bakal dirilis oleh Apple TV+ pada 17 November 2023.  Serial tersebut juga baru saja merilis Inside Look melalui video yang diunggah oleh akun YouTube Apple TV+ pada Minggu (5/11/2023) lalu.  Pemeran karakter Lee Shaw muda, Wyatt Russel, mengatakan Monarch: Legacy of Monsters merupakan sebuah puncak hiburan.  Baca juga:Monarch: Legacy of Monsters Tampilkan Kaiju-kaiju Baru  “Ini adalah puncak hiburan, ada aksi dan kegembiraan,” ujar Wyatt Russel dalam wawancaranya itu.  Selain mengungkapkan hal tersebut, Wyatt juga menyatakan serial teranyarnya ini akan diisi oleh berbagai varian Kaiju baru.  Sejauh yang diketahui, Kaiju yang menyerupai laba-laba raksasa hingga goliat bernapas es yang sebelumnya tak pernah muncul dalam waralaba Godzilla juga akan terlihat dalam serial ini.  “Semua monster ini sangat degil, saya akan mengatakan itu,” sambung aktor itu.  Baca juga:Apple TV+ Keluarkan Trailer Resmi Monarch: Legacy of Monsters  Selain Wyatt, wawancara tersebut juga menghadirkan Chris Black selaku produser eksekutif dari Monarch: Legacy of Monsters.  Dalam wawancaranya, Black mengungkapkan serial Monarch garapannya itu akan membuat para penggemar baru tertarik untuk menyaksikannya.  “Penggemar baru akan menonton ini dan berkata – wow, inilah cerita yang membuat saya tertarik,” ujar produser tersebut.  Baca juga:Jadwal Tayang, Pemeran, dan Alur Monarch: Legacy of Monsters  Tak hanya bagi penggemar baru, Black juga mengatakan serialnya ini dapat membuat para pengikutMonsterversedapat mengenali sebuah dunia yang akrab dengan mereka.  “Penonton yang menyukai Monsterverse akan melihat dunia yang mereka kenali” ungkap Chris Black.  “Merupakan sebuah kehormatan untuk diundang oleh teman dan kolaborator kami di Toho dan Legendary untuk bermain di alam Monsterverse ini” tutupnya.   '"
            ],
            "application/vnd.google.colaboratory.intrinsic+json": {
              "type": "string"
            }
          },
          "metadata": {},
          "execution_count": 7
        }
      ]
    },
    {
      "cell_type": "markdown",
      "source": [
        "#Data Preprocessing"
      ],
      "metadata": {
        "id": "7TGEoPeHLXKK"
      }
    },
    {
      "cell_type": "code",
      "source": [
        "def cleansing(text):\n",
        "\n",
        "    text = text.lower()\n",
        "\n",
        "    text = re.compile('[%s]' % re.escape(string.punctuation)).sub(' ', text)\n",
        "    text = re.sub(r'\\[[0-9]*\\]',' ',text)\n",
        "    text = re.sub(r'[^\\w\\s]', ' ', text)\n",
        "    text = re.sub(r'\\s+', ' ', text)\n",
        "    text = re.sub(r'\\d',' ',text)\n",
        "\n",
        "    words = text.split()\n",
        "    text = ' '.join(words)\n",
        "\n",
        "    text = text.replace('\\n','')\n",
        "    text = text.replace('advertisement','')\n",
        "    text = text.replace('scroll to resume content','')\n",
        "    text = text.replace('scroll to continue with content','')\n",
        "    text = text.replace('liputan com jakarta','')\n",
        "    text = text.replace('kompas com ','')\n",
        "    text = text.replace('jakarta cnbc indonesia ','')\n",
        "\n",
        "    return text"
      ],
      "metadata": {
        "id": "IPza-cmLMANb"
      },
      "execution_count": 8,
      "outputs": []
    },
    {
      "cell_type": "code",
      "source": [
        "nltk.download('stopwords')\n",
        "nltk.download('wordnet')\n",
        "nltk.download('punkt')"
      ],
      "metadata": {
        "id": "cc_tfNtLUji5",
        "colab": {
          "base_uri": "https://localhost:8080/"
        },
        "outputId": "2458c1e2-c4d3-4b0c-9df0-7b83491be253"
      },
      "execution_count": 9,
      "outputs": [
        {
          "output_type": "stream",
          "name": "stderr",
          "text": [
            "[nltk_data] Downloading package stopwords to /root/nltk_data...\n",
            "[nltk_data]   Unzipping corpora/stopwords.zip.\n",
            "[nltk_data] Downloading package wordnet to /root/nltk_data...\n",
            "[nltk_data] Downloading package punkt to /root/nltk_data...\n",
            "[nltk_data]   Unzipping tokenizers/punkt.zip.\n"
          ]
        },
        {
          "output_type": "execute_result",
          "data": {
            "text/plain": [
              "True"
            ]
          },
          "metadata": {},
          "execution_count": 9
        }
      ]
    },
    {
      "cell_type": "code",
      "source": [
        "data['Text'] = data['Text'].apply(cleansing)"
      ],
      "metadata": {
        "id": "I5v6NdyEg490"
      },
      "execution_count": 10,
      "outputs": []
    },
    {
      "cell_type": "code",
      "source": [
        "data['Text'][12]"
      ],
      "metadata": {
        "colab": {
          "base_uri": "https://localhost:8080/",
          "height": 122
        },
        "id": "JRLe3I05py2R",
        "outputId": "cc0bf02a-8c56-4c85-e08c-cd0225e1064d"
      },
      "execution_count": 11,
      "outputs": [
        {
          "output_type": "execute_result",
          "data": {
            "text/plain": [
              "'monarch legacy of monstersakan menjadi serialspin offdari waralaba godzilla yang bakal dirilis oleh apple tv pada november serial tersebut juga baru saja merilis inside look melalui video yang diunggah oleh akun youtube apple tv pada minggu lalu pemeran karakter lee shaw muda wyatt russel mengatakan monarch legacy of monsters merupakan sebuah puncak hiburan baca juga monarch legacy of monsters tampilkan kaiju kaiju baru ini adalah puncak hiburan ada aksi dan kegembiraan ujar wyatt russel dalam wawancaranya itu selain mengungkapkan hal tersebut wyatt juga menyatakan serial teranyarnya ini akan diisi oleh berbagai varian kaiju baru sejauh yang diketahui kaiju yang menyerupai laba laba raksasa hingga goliat bernapas es yang sebelumnya tak pernah muncul dalam waralaba godzilla juga akan terlihat dalam serial ini semua monster ini sangat degil saya akan mengatakan itu sambung aktor itu baca juga apple tv keluarkan trailer resmi monarch legacy of monsters selain wyatt wawancara tersebut juga menghadirkan chris black selaku produser eksekutif dari monarch legacy of monsters dalam wawancaranya black mengungkapkan serial monarch garapannya itu akan membuat para penggemar baru tertarik untuk menyaksikannya penggemar baru akan menonton ini dan berkata wow inilah cerita yang membuat saya tertarik ujar produser tersebut baca juga jadwal tayang pemeran dan alur monarch legacy of monsters tak hanya bagi penggemar baru black juga mengatakan serialnya ini dapat membuat para pengikutmonsterversedapat mengenali sebuah dunia yang akrab dengan mereka penonton yang menyukai monsterverse akan melihat dunia yang mereka kenali ungkap chris black merupakan sebuah kehormatan untuk diundang oleh teman dan kolaborator kami di toho dan legendary untuk bermain di alam monsterverse ini tutupnya monarch legacy of monstersakan menjadi serialspin offdari waralaba godzilla yang bakal dirilis oleh apple tv pada november serial tersebut juga baru saja merilis inside look melalui video yang diunggah oleh akun youtube apple tv pada minggu lalu pemeran karakter lee shaw muda wyatt russel mengatakan monarch legacy of monsters merupakan sebuah puncak hiburan baca juga monarch legacy of monsters tampilkan kaiju kaiju baru ini adalah puncak hiburan ada aksi dan kegembiraan ujar wyatt russel dalam wawancaranya itu selain mengungkapkan hal tersebut wyatt juga menyatakan serial teranyarnya ini akan diisi oleh berbagai varian kaiju baru sejauh yang diketahui kaiju yang menyerupai laba laba raksasa hingga goliat bernapas es yang sebelumnya tak pernah muncul dalam waralaba godzilla juga akan terlihat dalam serial ini semua monster ini sangat degil saya akan mengatakan itu sambung aktor itu baca juga apple tv keluarkan trailer resmi monarch legacy of monsters selain wyatt wawancara tersebut juga menghadirkan chris black selaku produser eksekutif dari monarch legacy of monsters dalam wawancaranya black mengungkapkan serial monarch garapannya itu akan membuat para penggemar baru tertarik untuk menyaksikannya penggemar baru akan menonton ini dan berkata wow inilah cerita yang membuat saya tertarik ujar produser tersebut baca juga jadwal tayang pemeran dan alur monarch legacy of monsters tak hanya bagi penggemar baru black juga mengatakan serialnya ini dapat membuat para pengikutmonsterversedapat mengenali sebuah dunia yang akrab dengan mereka penonton yang menyukai monsterverse akan melihat dunia yang mereka kenali ungkap chris black merupakan sebuah kehormatan untuk diundang oleh teman dan kolaborator kami di toho dan legendary untuk bermain di alam monsterverse ini tutupnya'"
            ],
            "application/vnd.google.colaboratory.intrinsic+json": {
              "type": "string"
            }
          },
          "metadata": {},
          "execution_count": 11
        }
      ]
    },
    {
      "cell_type": "code",
      "source": [
        "data.to_csv('berita.csv',index=False)\n",
        "df = pd.read_csv('berita.csv')"
      ],
      "metadata": {
        "id": "1hLyu9GJpMjG"
      },
      "execution_count": 12,
      "outputs": []
    },
    {
      "cell_type": "code",
      "source": [
        "print(df)"
      ],
      "metadata": {
        "id": "z-yVtD9ig5CG",
        "colab": {
          "base_uri": "https://localhost:8080/"
        },
        "outputId": "236366c2-b7f0-4023-b1ee-835dab0237de"
      },
      "execution_count": 13,
      "outputs": [
        {
          "output_type": "stream",
          "name": "stdout",
          "text": [
            "                                                  URL  \\\n",
            "0   https://www.cnnindonesia.com/olahraga/20231031...   \n",
            "1   https://www.cnnindonesia.com/olahraga/20231105...   \n",
            "2   https://www.cnnindonesia.com/nasional/20231108...   \n",
            "3   https://www.cnnindonesia.com/nasional/20231108...   \n",
            "4   https://www.cnnindonesia.com/hiburan/202311080...   \n",
            "5   https://www.cnnindonesia.com/hiburan/202311080...   \n",
            "6   https://www.liputan6.com/bola/read/5446924/nos...   \n",
            "7   https://www.liputan6.com/bola/read/5446920/ind...   \n",
            "8   https://www.liputan6.com/showbiz/read/5446901/...   \n",
            "9   https://www.liputan6.com/showbiz/read/5444951/...   \n",
            "10  https://www.liputan6.com/news/read/5445021/gol...   \n",
            "11  https://www.liputan6.com/pemilu/read/5444959/h...   \n",
            "12  https://entertainment.kompas.com/read/2023/11/...   \n",
            "13  https://www.kompas.com/hype/read/2023/10/03/11...   \n",
            "14  https://www.kompas.com/badminton/read/2023/11/...   \n",
            "15  https://www.kompas.com/badminton/read/2023/11/...   \n",
            "16  https://nasional.kompas.com/read/2023/11/02/15...   \n",
            "17  https://nasional.kompas.com/read/2023/11/01/15...   \n",
            "18  https://www.cnbcindonesia.com/news/20210310131...   \n",
            "19  https://www.cnbcindonesia.com/tech/20231027061...   \n",
            "20  https://www.cnbcindonesia.com/news/20231023151...   \n",
            "21  https://www.cnbcindonesia.com/lifestyle/202310...   \n",
            "22  https://www.cnbcindonesia.com/news/20231103135...   \n",
            "23  https://www.cnbcindonesia.com/news/20230810192...   \n",
            "\n",
            "                                                 Text           Media  \\\n",
            "0   jonatan christiemendapat banyak kritikan di pa...   CNN Indonesia   \n",
            "1   kemenangandaejeon jung kwanjang red sparksatas...   CNN Indonesia   \n",
            "2   wali kota medanbobby nasutionhadir dalam acara...   CNN Indonesia   \n",
            "3   wakil komandan echo hukum dan advokasi tim kam...   CNN Indonesia   \n",
            "4   the marvelsmerupakan film yang melanjutkan sal...   CNN Indonesia   \n",
            "5   sitkomfriendsmengalami pelonjakan penonton di ...   CNN Indonesia   \n",
            "6    pecinta bola basket di jakarta dan sekitarnya...        Liputan6   \n",
            "7    federasi panjat tebing indonesia fpti bakal m...        Liputan6   \n",
            "8   kurang dari sebulanlee junhoakan ke indonesia ...        Liputan6   \n",
            "9    sudah banyak interaksi unik antara artis indo...        Liputan6   \n",
            "10  partaigolkarakan memperingati hari ulang tahun...        Liputan6   \n",
            "11  sekjenpdiphasto kristiyanto meminta tim pemena...        Liputan6   \n",
            "12  monarch legacy of monstersakan menjadi serials...          Kompas   \n",
            "13  jakarta aktrisjessica milamengaku sempat menga...          Kompas   \n",
            "14  jadwalkorea masters hari ini rabu akan berlang...          Kompas   \n",
            "15  ganda putra indonesia kevin sanjaya sukamuljo ...          Kompas   \n",
            "16  jakarta presiden joko widodomembantah anggapan...          Kompas   \n",
            "17  jakarta bakal calon presiden capres dan calon ...          Kompas   \n",
            "18  pemerintah provinsi dki jakarta di bawah guber...  CNBC Indonesia   \n",
            "19  kabar gembira bagi penggemar jkt atau wota kar...  CNBC Indonesia   \n",
            "20  bukan menambah arena tenant pusat perbelanjaan...  CNBC Indonesia   \n",
            "21  kontingen indonesia tercatat masih belum berha...  CNBC Indonesia   \n",
            "22  isu politik dinasti di asia tenggara menjadi s...  CNBC Indonesia   \n",
            "23  salah satu kandidat bakal calon wakil presiden...  CNBC Indonesia   \n",
            "\n",
            "       Label  \n",
            "0   Olahraga  \n",
            "1   Olahraga  \n",
            "2    Politik  \n",
            "3    Politik  \n",
            "4    Hiburan  \n",
            "5    Hiburan  \n",
            "6   Olahraga  \n",
            "7   Olahraga  \n",
            "8    Hiburan  \n",
            "9    Hiburan  \n",
            "10   Politik  \n",
            "11   Politik  \n",
            "12   Hiburan  \n",
            "13   Hiburan  \n",
            "14  Olahraga  \n",
            "15  Olahraga  \n",
            "16   Politik  \n",
            "17   Politik  \n",
            "18   Hiburan  \n",
            "19   Hiburan  \n",
            "20  Olahraga  \n",
            "21  Olahraga  \n",
            "22   Politik  \n",
            "23   Politik  \n"
          ]
        }
      ]
    },
    {
      "cell_type": "markdown",
      "source": [
        "#Stopwords and Lemmatization"
      ],
      "metadata": {
        "id": "6kDMc1YwLhT4"
      }
    },
    {
      "cell_type": "code",
      "source": [
        "from nltk.tokenize import word_tokenize\n",
        "from nltk.corpus import stopwords\n",
        "\n",
        "stop_words = set(stopwords.words('indonesian'))\n",
        "lemmatizer = WordNetLemmatizer()\n",
        "\n",
        "def lemmatize_and_stopwords(text):\n",
        "    tokens = nltk.word_tokenize(text)\n",
        "    lemmatized_tokens = [lemmatizer.lemmatize(word) for word in tokens if word not in stop_words]\n",
        "    lemmatized_text = ' '.join(lemmatized_tokens)\n",
        "    return lemmatized_text\n",
        "\n",
        "df['Tokenized Text'] = df['Text'].apply(lambda text: [lemmatizer.lemmatize(word) for word in nltk.word_tokenize(text) if word not in stop_words])\n",
        "df['Lemmatized Text'] = df['Text'].apply(lemmatize_and_stopwords)"
      ],
      "metadata": {
        "id": "QDaCSu3BrY7v"
      },
      "execution_count": 14,
      "outputs": []
    },
    {
      "cell_type": "code",
      "source": [
        "df.head()"
      ],
      "metadata": {
        "colab": {
          "base_uri": "https://localhost:8080/",
          "height": 293
        },
        "id": "2K858Yy43KfD",
        "outputId": "e9bf1fe2-0629-48c2-880e-a0ea5a4d3e16"
      },
      "execution_count": 15,
      "outputs": [
        {
          "output_type": "execute_result",
          "data": {
            "text/plain": [
              "                                                 URL  \\\n",
              "0  https://www.cnnindonesia.com/olahraga/20231031...   \n",
              "1  https://www.cnnindonesia.com/olahraga/20231105...   \n",
              "2  https://www.cnnindonesia.com/nasional/20231108...   \n",
              "3  https://www.cnnindonesia.com/nasional/20231108...   \n",
              "4  https://www.cnnindonesia.com/hiburan/202311080...   \n",
              "\n",
              "                                                Text          Media     Label  \\\n",
              "0  jonatan christiemendapat banyak kritikan di pa...  CNN Indonesia  Olahraga   \n",
              "1  kemenangandaejeon jung kwanjang red sparksatas...  CNN Indonesia  Olahraga   \n",
              "2  wali kota medanbobby nasutionhadir dalam acara...  CNN Indonesia   Politik   \n",
              "3  wakil komandan echo hukum dan advokasi tim kam...  CNN Indonesia   Politik   \n",
              "4  the marvelsmerupakan film yang melanjutkan sal...  CNN Indonesia   Hiburan   \n",
              "\n",
              "                                      Tokenized Text  \\\n",
              "0  [jonatan, christiemendapat, kritikan, merujuk,...   \n",
              "1  [kemenangandaejeon, jung, kwanjang, red, spark...   \n",
              "2  [wali, kota, medanbobby, nasutionhadir, acara,...   \n",
              "3  [wakil, komandan, echo, hukum, advokasi, tim, ...   \n",
              "4  [the, marvelsmerupakan, film, melanjutkan, sal...   \n",
              "\n",
              "                                     Lemmatized Text  \n",
              "0  jonatan christiemendapat kritikan merujuk stat...  \n",
              "1  kemenangandaejeon jung kwanjang red sparksatas...  \n",
              "2  wali kota medanbobby nasutionhadir acara dekla...  \n",
              "3  wakil komandan echo hukum advokasi tim kampany...  \n",
              "4  the marvelsmerupakan film melanjutkan salah ki...  "
            ],
            "text/html": [
              "\n",
              "  <div id=\"df-98d4ad23-ba56-4648-8e95-619a266b98f3\" class=\"colab-df-container\">\n",
              "    <div>\n",
              "<style scoped>\n",
              "    .dataframe tbody tr th:only-of-type {\n",
              "        vertical-align: middle;\n",
              "    }\n",
              "\n",
              "    .dataframe tbody tr th {\n",
              "        vertical-align: top;\n",
              "    }\n",
              "\n",
              "    .dataframe thead th {\n",
              "        text-align: right;\n",
              "    }\n",
              "</style>\n",
              "<table border=\"1\" class=\"dataframe\">\n",
              "  <thead>\n",
              "    <tr style=\"text-align: right;\">\n",
              "      <th></th>\n",
              "      <th>URL</th>\n",
              "      <th>Text</th>\n",
              "      <th>Media</th>\n",
              "      <th>Label</th>\n",
              "      <th>Tokenized Text</th>\n",
              "      <th>Lemmatized Text</th>\n",
              "    </tr>\n",
              "  </thead>\n",
              "  <tbody>\n",
              "    <tr>\n",
              "      <th>0</th>\n",
              "      <td>https://www.cnnindonesia.com/olahraga/20231031...</td>\n",
              "      <td>jonatan christiemendapat banyak kritikan di pa...</td>\n",
              "      <td>CNN Indonesia</td>\n",
              "      <td>Olahraga</td>\n",
              "      <td>[jonatan, christiemendapat, kritikan, merujuk,...</td>\n",
              "      <td>jonatan christiemendapat kritikan merujuk stat...</td>\n",
              "    </tr>\n",
              "    <tr>\n",
              "      <th>1</th>\n",
              "      <td>https://www.cnnindonesia.com/olahraga/20231105...</td>\n",
              "      <td>kemenangandaejeon jung kwanjang red sparksatas...</td>\n",
              "      <td>CNN Indonesia</td>\n",
              "      <td>Olahraga</td>\n",
              "      <td>[kemenangandaejeon, jung, kwanjang, red, spark...</td>\n",
              "      <td>kemenangandaejeon jung kwanjang red sparksatas...</td>\n",
              "    </tr>\n",
              "    <tr>\n",
              "      <th>2</th>\n",
              "      <td>https://www.cnnindonesia.com/nasional/20231108...</td>\n",
              "      <td>wali kota medanbobby nasutionhadir dalam acara...</td>\n",
              "      <td>CNN Indonesia</td>\n",
              "      <td>Politik</td>\n",
              "      <td>[wali, kota, medanbobby, nasutionhadir, acara,...</td>\n",
              "      <td>wali kota medanbobby nasutionhadir acara dekla...</td>\n",
              "    </tr>\n",
              "    <tr>\n",
              "      <th>3</th>\n",
              "      <td>https://www.cnnindonesia.com/nasional/20231108...</td>\n",
              "      <td>wakil komandan echo hukum dan advokasi tim kam...</td>\n",
              "      <td>CNN Indonesia</td>\n",
              "      <td>Politik</td>\n",
              "      <td>[wakil, komandan, echo, hukum, advokasi, tim, ...</td>\n",
              "      <td>wakil komandan echo hukum advokasi tim kampany...</td>\n",
              "    </tr>\n",
              "    <tr>\n",
              "      <th>4</th>\n",
              "      <td>https://www.cnnindonesia.com/hiburan/202311080...</td>\n",
              "      <td>the marvelsmerupakan film yang melanjutkan sal...</td>\n",
              "      <td>CNN Indonesia</td>\n",
              "      <td>Hiburan</td>\n",
              "      <td>[the, marvelsmerupakan, film, melanjutkan, sal...</td>\n",
              "      <td>the marvelsmerupakan film melanjutkan salah ki...</td>\n",
              "    </tr>\n",
              "  </tbody>\n",
              "</table>\n",
              "</div>\n",
              "    <div class=\"colab-df-buttons\">\n",
              "\n",
              "  <div class=\"colab-df-container\">\n",
              "    <button class=\"colab-df-convert\" onclick=\"convertToInteractive('df-98d4ad23-ba56-4648-8e95-619a266b98f3')\"\n",
              "            title=\"Convert this dataframe to an interactive table.\"\n",
              "            style=\"display:none;\">\n",
              "\n",
              "  <svg xmlns=\"http://www.w3.org/2000/svg\" height=\"24px\" viewBox=\"0 -960 960 960\">\n",
              "    <path d=\"M120-120v-720h720v720H120Zm60-500h600v-160H180v160Zm220 220h160v-160H400v160Zm0 220h160v-160H400v160ZM180-400h160v-160H180v160Zm440 0h160v-160H620v160ZM180-180h160v-160H180v160Zm440 0h160v-160H620v160Z\"/>\n",
              "  </svg>\n",
              "    </button>\n",
              "\n",
              "  <style>\n",
              "    .colab-df-container {\n",
              "      display:flex;\n",
              "      gap: 12px;\n",
              "    }\n",
              "\n",
              "    .colab-df-convert {\n",
              "      background-color: #E8F0FE;\n",
              "      border: none;\n",
              "      border-radius: 50%;\n",
              "      cursor: pointer;\n",
              "      display: none;\n",
              "      fill: #1967D2;\n",
              "      height: 32px;\n",
              "      padding: 0 0 0 0;\n",
              "      width: 32px;\n",
              "    }\n",
              "\n",
              "    .colab-df-convert:hover {\n",
              "      background-color: #E2EBFA;\n",
              "      box-shadow: 0px 1px 2px rgba(60, 64, 67, 0.3), 0px 1px 3px 1px rgba(60, 64, 67, 0.15);\n",
              "      fill: #174EA6;\n",
              "    }\n",
              "\n",
              "    .colab-df-buttons div {\n",
              "      margin-bottom: 4px;\n",
              "    }\n",
              "\n",
              "    [theme=dark] .colab-df-convert {\n",
              "      background-color: #3B4455;\n",
              "      fill: #D2E3FC;\n",
              "    }\n",
              "\n",
              "    [theme=dark] .colab-df-convert:hover {\n",
              "      background-color: #434B5C;\n",
              "      box-shadow: 0px 1px 3px 1px rgba(0, 0, 0, 0.15);\n",
              "      filter: drop-shadow(0px 1px 2px rgba(0, 0, 0, 0.3));\n",
              "      fill: #FFFFFF;\n",
              "    }\n",
              "  </style>\n",
              "\n",
              "    <script>\n",
              "      const buttonEl =\n",
              "        document.querySelector('#df-98d4ad23-ba56-4648-8e95-619a266b98f3 button.colab-df-convert');\n",
              "      buttonEl.style.display =\n",
              "        google.colab.kernel.accessAllowed ? 'block' : 'none';\n",
              "\n",
              "      async function convertToInteractive(key) {\n",
              "        const element = document.querySelector('#df-98d4ad23-ba56-4648-8e95-619a266b98f3');\n",
              "        const dataTable =\n",
              "          await google.colab.kernel.invokeFunction('convertToInteractive',\n",
              "                                                    [key], {});\n",
              "        if (!dataTable) return;\n",
              "\n",
              "        const docLinkHtml = 'Like what you see? Visit the ' +\n",
              "          '<a target=\"_blank\" href=https://colab.research.google.com/notebooks/data_table.ipynb>data table notebook</a>'\n",
              "          + ' to learn more about interactive tables.';\n",
              "        element.innerHTML = '';\n",
              "        dataTable['output_type'] = 'display_data';\n",
              "        await google.colab.output.renderOutput(dataTable, element);\n",
              "        const docLink = document.createElement('div');\n",
              "        docLink.innerHTML = docLinkHtml;\n",
              "        element.appendChild(docLink);\n",
              "      }\n",
              "    </script>\n",
              "  </div>\n",
              "\n",
              "\n",
              "<div id=\"df-bebdf1df-d77e-4708-b1fd-1dd7d82363de\">\n",
              "  <button class=\"colab-df-quickchart\" onclick=\"quickchart('df-bebdf1df-d77e-4708-b1fd-1dd7d82363de')\"\n",
              "            title=\"Suggest charts\"\n",
              "            style=\"display:none;\">\n",
              "\n",
              "<svg xmlns=\"http://www.w3.org/2000/svg\" height=\"24px\"viewBox=\"0 0 24 24\"\n",
              "     width=\"24px\">\n",
              "    <g>\n",
              "        <path d=\"M19 3H5c-1.1 0-2 .9-2 2v14c0 1.1.9 2 2 2h14c1.1 0 2-.9 2-2V5c0-1.1-.9-2-2-2zM9 17H7v-7h2v7zm4 0h-2V7h2v10zm4 0h-2v-4h2v4z\"/>\n",
              "    </g>\n",
              "</svg>\n",
              "  </button>\n",
              "\n",
              "<style>\n",
              "  .colab-df-quickchart {\n",
              "      --bg-color: #E8F0FE;\n",
              "      --fill-color: #1967D2;\n",
              "      --hover-bg-color: #E2EBFA;\n",
              "      --hover-fill-color: #174EA6;\n",
              "      --disabled-fill-color: #AAA;\n",
              "      --disabled-bg-color: #DDD;\n",
              "  }\n",
              "\n",
              "  [theme=dark] .colab-df-quickchart {\n",
              "      --bg-color: #3B4455;\n",
              "      --fill-color: #D2E3FC;\n",
              "      --hover-bg-color: #434B5C;\n",
              "      --hover-fill-color: #FFFFFF;\n",
              "      --disabled-bg-color: #3B4455;\n",
              "      --disabled-fill-color: #666;\n",
              "  }\n",
              "\n",
              "  .colab-df-quickchart {\n",
              "    background-color: var(--bg-color);\n",
              "    border: none;\n",
              "    border-radius: 50%;\n",
              "    cursor: pointer;\n",
              "    display: none;\n",
              "    fill: var(--fill-color);\n",
              "    height: 32px;\n",
              "    padding: 0;\n",
              "    width: 32px;\n",
              "  }\n",
              "\n",
              "  .colab-df-quickchart:hover {\n",
              "    background-color: var(--hover-bg-color);\n",
              "    box-shadow: 0 1px 2px rgba(60, 64, 67, 0.3), 0 1px 3px 1px rgba(60, 64, 67, 0.15);\n",
              "    fill: var(--button-hover-fill-color);\n",
              "  }\n",
              "\n",
              "  .colab-df-quickchart-complete:disabled,\n",
              "  .colab-df-quickchart-complete:disabled:hover {\n",
              "    background-color: var(--disabled-bg-color);\n",
              "    fill: var(--disabled-fill-color);\n",
              "    box-shadow: none;\n",
              "  }\n",
              "\n",
              "  .colab-df-spinner {\n",
              "    border: 2px solid var(--fill-color);\n",
              "    border-color: transparent;\n",
              "    border-bottom-color: var(--fill-color);\n",
              "    animation:\n",
              "      spin 1s steps(1) infinite;\n",
              "  }\n",
              "\n",
              "  @keyframes spin {\n",
              "    0% {\n",
              "      border-color: transparent;\n",
              "      border-bottom-color: var(--fill-color);\n",
              "      border-left-color: var(--fill-color);\n",
              "    }\n",
              "    20% {\n",
              "      border-color: transparent;\n",
              "      border-left-color: var(--fill-color);\n",
              "      border-top-color: var(--fill-color);\n",
              "    }\n",
              "    30% {\n",
              "      border-color: transparent;\n",
              "      border-left-color: var(--fill-color);\n",
              "      border-top-color: var(--fill-color);\n",
              "      border-right-color: var(--fill-color);\n",
              "    }\n",
              "    40% {\n",
              "      border-color: transparent;\n",
              "      border-right-color: var(--fill-color);\n",
              "      border-top-color: var(--fill-color);\n",
              "    }\n",
              "    60% {\n",
              "      border-color: transparent;\n",
              "      border-right-color: var(--fill-color);\n",
              "    }\n",
              "    80% {\n",
              "      border-color: transparent;\n",
              "      border-right-color: var(--fill-color);\n",
              "      border-bottom-color: var(--fill-color);\n",
              "    }\n",
              "    90% {\n",
              "      border-color: transparent;\n",
              "      border-bottom-color: var(--fill-color);\n",
              "    }\n",
              "  }\n",
              "</style>\n",
              "\n",
              "  <script>\n",
              "    async function quickchart(key) {\n",
              "      const quickchartButtonEl =\n",
              "        document.querySelector('#' + key + ' button');\n",
              "      quickchartButtonEl.disabled = true;  // To prevent multiple clicks.\n",
              "      quickchartButtonEl.classList.add('colab-df-spinner');\n",
              "      try {\n",
              "        const charts = await google.colab.kernel.invokeFunction(\n",
              "            'suggestCharts', [key], {});\n",
              "      } catch (error) {\n",
              "        console.error('Error during call to suggestCharts:', error);\n",
              "      }\n",
              "      quickchartButtonEl.classList.remove('colab-df-spinner');\n",
              "      quickchartButtonEl.classList.add('colab-df-quickchart-complete');\n",
              "    }\n",
              "    (() => {\n",
              "      let quickchartButtonEl =\n",
              "        document.querySelector('#df-bebdf1df-d77e-4708-b1fd-1dd7d82363de button');\n",
              "      quickchartButtonEl.style.display =\n",
              "        google.colab.kernel.accessAllowed ? 'block' : 'none';\n",
              "    })();\n",
              "  </script>\n",
              "</div>\n",
              "    </div>\n",
              "  </div>\n"
            ]
          },
          "metadata": {},
          "execution_count": 15
        }
      ]
    },
    {
      "cell_type": "code",
      "source": [
        "df['Tokenized Text']"
      ],
      "metadata": {
        "colab": {
          "base_uri": "https://localhost:8080/"
        },
        "id": "t5rZ9k5U0-g1",
        "outputId": "b1e800b1-c51a-4fcb-ea67-68ef596135de"
      },
      "execution_count": 16,
      "outputs": [
        {
          "output_type": "execute_result",
          "data": {
            "text/plain": [
              "0     [jonatan, christiemendapat, kritikan, merujuk,...\n",
              "1     [kemenangandaejeon, jung, kwanjang, red, spark...\n",
              "2     [wali, kota, medanbobby, nasutionhadir, acara,...\n",
              "3     [wakil, komandan, echo, hukum, advokasi, tim, ...\n",
              "4     [the, marvelsmerupakan, film, melanjutkan, sal...\n",
              "5     [sitkomfriendsmengalami, pelonjakan, penonton,...\n",
              "6     [pecinta, bola, basket, jakarta, antusias, men...\n",
              "7     [federasi, panjat, tebing, indonesia, fpti, me...\n",
              "8     [sebulanlee, junhoakan, indonesia, menggelar, ...\n",
              "9     [interaksi, unik, artis, indonesia, artis, neg...\n",
              "10    [partaigolkarakan, memperingati, ulang, hut, s...\n",
              "11    [sekjenpdiphasto, kristiyanto, tim, pemenangan...\n",
              "12    [monarch, legacy, of, monstersakan, serialspin...\n",
              "13    [jakarta, aktrisjessica, milamengaku, mengalam...\n",
              "14    [jadwalkorea, master, rabu, gwangju, woman, s,...\n",
              "15    [ganda, putra, indonesia, kevin, sanjaya, suka...\n",
              "16    [jakarta, presiden, joko, widodomembantah, ang...\n",
              "17    [jakarta, calon, presiden, capres, calon, waki...\n",
              "18    [pemerintah, provinsi, dki, jakarta, gubernur,...\n",
              "19    [kabar, gembira, penggemar, jkt, wota, idol, z...\n",
              "20    [menambah, arena, tenant, pusat, perbelanjaan,...\n",
              "21    [kontingen, indonesia, tercatat, berhasil, men...\n",
              "22    [isu, politik, dinasti, asia, tenggara, sorota...\n",
              "23    [salah, kandidat, calon, wakil, presiden, baca...\n",
              "Name: Tokenized Text, dtype: object"
            ]
          },
          "metadata": {},
          "execution_count": 16
        }
      ]
    },
    {
      "cell_type": "code",
      "source": [
        "df['Lemmatized Text']"
      ],
      "metadata": {
        "colab": {
          "base_uri": "https://localhost:8080/"
        },
        "id": "9Gg15TC_6oOC",
        "outputId": "68e2d970-4bad-4ba5-fc9c-bbb785a79647"
      },
      "execution_count": 17,
      "outputs": [
        {
          "output_type": "execute_result",
          "data": {
            "text/plain": [
              "0     jonatan christiemendapat kritikan merujuk stat...\n",
              "1     kemenangandaejeon jung kwanjang red sparksatas...\n",
              "2     wali kota medanbobby nasutionhadir acara dekla...\n",
              "3     wakil komandan echo hukum advokasi tim kampany...\n",
              "4     the marvelsmerupakan film melanjutkan salah ki...\n",
              "5     sitkomfriendsmengalami pelonjakan penonton lay...\n",
              "6     pecinta bola basket jakarta antusias menyambut...\n",
              "7     federasi panjat tebing indonesia fpti menggela...\n",
              "8     sebulanlee junhoakan indonesia menggelar fan m...\n",
              "9     interaksi unik artis indonesia artis negeri gi...\n",
              "10    partaigolkarakan memperingati ulang hut senin ...\n",
              "11    sekjenpdiphasto kristiyanto tim pemenangan dae...\n",
              "12    monarch legacy of monstersakan serialspin offd...\n",
              "13    jakarta aktrisjessica milamengaku mengalamimor...\n",
              "14    jadwalkorea master rabu gwangju woman s univer...\n",
              "15    ganda putra indonesia kevin sanjaya sukamuljo ...\n",
              "16    jakarta presiden joko widodomembantah anggapan...\n",
              "17    jakarta calon presiden capres calon wakil pres...\n",
              "18    pemerintah provinsi dki jakarta gubernur anies...\n",
              "19    kabar gembira penggemar jkt wota idol zee frey...\n",
              "20    menambah arena tenant pusat perbelanjaan wtc m...\n",
              "21    kontingen indonesia tercatat berhasil menambah...\n",
              "22    isu politik dinasti asia tenggara sorotan bera...\n",
              "23    salah kandidat calon wakil presiden bacawapres...\n",
              "Name: Lemmatized Text, dtype: object"
            ]
          },
          "metadata": {},
          "execution_count": 17
        }
      ]
    },
    {
      "cell_type": "code",
      "source": [
        "df.info()"
      ],
      "metadata": {
        "colab": {
          "base_uri": "https://localhost:8080/"
        },
        "id": "j2fOBu1ff35y",
        "outputId": "7a2bd6e4-f0e3-4cf2-a88d-a1b78e5d6aea"
      },
      "execution_count": 18,
      "outputs": [
        {
          "output_type": "stream",
          "name": "stdout",
          "text": [
            "<class 'pandas.core.frame.DataFrame'>\n",
            "RangeIndex: 24 entries, 0 to 23\n",
            "Data columns (total 6 columns):\n",
            " #   Column           Non-Null Count  Dtype \n",
            "---  ------           --------------  ----- \n",
            " 0   URL              24 non-null     object\n",
            " 1   Text             24 non-null     object\n",
            " 2   Media            24 non-null     object\n",
            " 3   Label            24 non-null     object\n",
            " 4   Tokenized Text   24 non-null     object\n",
            " 5   Lemmatized Text  24 non-null     object\n",
            "dtypes: object(6)\n",
            "memory usage: 1.2+ KB\n"
          ]
        }
      ]
    },
    {
      "cell_type": "markdown",
      "source": [
        "#Modelling"
      ],
      "metadata": {
        "id": "UJFsejdsLnL2"
      }
    },
    {
      "cell_type": "code",
      "source": [
        "from sklearn.feature_extraction.text import CountVectorizer\n",
        "from sklearn.feature_extraction.text import TfidfVectorizer\n",
        "X_train, X_test, y_train, y_test = train_test_split(df['Lemmatized Text'], df['Label'], test_size=0.2, random_state=42)\n",
        "\n",
        "# Metode 1: TF-IDF\n",
        "tfidf_vectorizer = TfidfVectorizer(max_features=50, min_df=3)\n",
        "X_train_tfidf = tfidf_vectorizer.fit_transform(X_train)\n",
        "X_test_tfidf = tfidf_vectorizer.transform(X_test)\n",
        "\n",
        "# Melatih model SVM dengan metode TF-IDF\n",
        "svm_classifier_tfidf = SVC(kernel='linear')\n",
        "svm_classifier_tfidf.fit(X_train_tfidf, y_train)\n",
        "svm_predictions_tfidf = svm_classifier_tfidf.predict(X_test_tfidf)\n",
        "\n",
        "# Melatih model Random Forest dengan metode TF-IDF\n",
        "rf_classifier_tfidf = RandomForestClassifier(n_estimators=100, random_state=42)\n",
        "rf_classifier_tfidf.fit(X_train_tfidf, y_train)\n",
        "rf_predictions_tfidf = rf_classifier_tfidf.predict(X_test_tfidf)\n",
        "\n",
        "# Evaluation\n",
        "print(\"Hasil SVM dengan TF-IDF:\")\n",
        "print(accuracy_score(y_test, svm_predictions_tfidf))\n",
        "print(classification_report(y_test, svm_predictions_tfidf))\n",
        "\n",
        "print(\"Hasil Random Forest dengan TF-IDF:\")\n",
        "print(accuracy_score(y_test, rf_predictions_tfidf))\n",
        "print(classification_report(y_test, rf_predictions_tfidf))"
      ],
      "metadata": {
        "colab": {
          "base_uri": "https://localhost:8080/"
        },
        "id": "f-0-WOeOo7UF",
        "outputId": "897602db-c0ef-4b9e-9b7e-c5c4592a09ce"
      },
      "execution_count": 19,
      "outputs": [
        {
          "output_type": "stream",
          "name": "stdout",
          "text": [
            "Hasil SVM dengan TF-IDF:\n",
            "0.8\n",
            "              precision    recall  f1-score   support\n",
            "\n",
            "     Hiburan       1.00      0.50      0.67         2\n",
            "    Olahraga       0.50      1.00      0.67         1\n",
            "     Politik       1.00      1.00      1.00         2\n",
            "\n",
            "    accuracy                           0.80         5\n",
            "   macro avg       0.83      0.83      0.78         5\n",
            "weighted avg       0.90      0.80      0.80         5\n",
            "\n",
            "Hasil Random Forest dengan TF-IDF:\n",
            "0.6\n",
            "              precision    recall  f1-score   support\n",
            "\n",
            "     Hiburan       0.50      0.50      0.50         2\n",
            "    Olahraga       0.50      1.00      0.67         1\n",
            "     Politik       1.00      0.50      0.67         2\n",
            "\n",
            "    accuracy                           0.60         5\n",
            "   macro avg       0.67      0.67      0.61         5\n",
            "weighted avg       0.70      0.60      0.60         5\n",
            "\n"
          ]
        }
      ]
    },
    {
      "cell_type": "markdown",
      "source": [
        "Reference TF-IDF:\n",
        "https://www.kaggle.com/code/sainijagjit/text-classification-using-svm"
      ],
      "metadata": {
        "id": "886L-ph77nYC"
      }
    },
    {
      "cell_type": "code",
      "source": [
        "# Metode 2: Count Vectorizer\n",
        "count_vectorizer = CountVectorizer(max_features=50, min_df=3)\n",
        "X_train_count = count_vectorizer.fit_transform(X_train)\n",
        "X_test_count = count_vectorizer.transform(X_test)\n",
        "\n",
        "# Melatih model SVM dengan metode Count Vectorizer\n",
        "svm_classifier_count = SVC(kernel='linear')\n",
        "svm_classifier_count.fit(X_train_count, y_train)\n",
        "svm_predictions_count = svm_classifier_count.predict(X_test_count)\n",
        "\n",
        "# Melatih model Random Forest dengan metode Count Vectorizer\n",
        "rf_classifier_count = RandomForestClassifier(n_estimators=100, random_state=42)\n",
        "rf_classifier_count.fit(X_train_count, y_train)\n",
        "rf_predictions_count = rf_classifier_count.predict(X_test_count)\n",
        "\n",
        "#Evaluation\n",
        "print(\"Hasil SVM dengan Count Vectorizer:\")\n",
        "print(accuracy_score(y_test, svm_predictions_count))\n",
        "print(classification_report(y_test, svm_predictions_count))\n",
        "\n",
        "print(\"Hasil Random Forest dengan Count Vectorizer:\")\n",
        "print(accuracy_score(y_test, rf_predictions_count))\n",
        "print(classification_report(y_test, rf_predictions_count))"
      ],
      "metadata": {
        "colab": {
          "base_uri": "https://localhost:8080/"
        },
        "id": "mUkU6SPfGTeO",
        "outputId": "3e1b49db-5c19-483f-d6ec-66be77e1e2dd"
      },
      "execution_count": 20,
      "outputs": [
        {
          "output_type": "stream",
          "name": "stdout",
          "text": [
            "Hasil SVM dengan Count Vectorizer:\n",
            "0.8\n",
            "              precision    recall  f1-score   support\n",
            "\n",
            "     Hiburan       0.67      1.00      0.80         2\n",
            "    Olahraga       0.00      0.00      0.00         1\n",
            "     Politik       1.00      1.00      1.00         2\n",
            "\n",
            "    accuracy                           0.80         5\n",
            "   macro avg       0.56      0.67      0.60         5\n",
            "weighted avg       0.67      0.80      0.72         5\n",
            "\n",
            "Hasil Random Forest dengan Count Vectorizer:\n",
            "0.8\n",
            "              precision    recall  f1-score   support\n",
            "\n",
            "     Hiburan       1.00      0.50      0.67         2\n",
            "    Olahraga       0.50      1.00      0.67         1\n",
            "     Politik       1.00      1.00      1.00         2\n",
            "\n",
            "    accuracy                           0.80         5\n",
            "   macro avg       0.83      0.83      0.78         5\n",
            "weighted avg       0.90      0.80      0.80         5\n",
            "\n"
          ]
        },
        {
          "output_type": "stream",
          "name": "stderr",
          "text": [
            "/usr/local/lib/python3.10/dist-packages/sklearn/metrics/_classification.py:1344: UndefinedMetricWarning: Precision and F-score are ill-defined and being set to 0.0 in labels with no predicted samples. Use `zero_division` parameter to control this behavior.\n",
            "  _warn_prf(average, modifier, msg_start, len(result))\n",
            "/usr/local/lib/python3.10/dist-packages/sklearn/metrics/_classification.py:1344: UndefinedMetricWarning: Precision and F-score are ill-defined and being set to 0.0 in labels with no predicted samples. Use `zero_division` parameter to control this behavior.\n",
            "  _warn_prf(average, modifier, msg_start, len(result))\n",
            "/usr/local/lib/python3.10/dist-packages/sklearn/metrics/_classification.py:1344: UndefinedMetricWarning: Precision and F-score are ill-defined and being set to 0.0 in labels with no predicted samples. Use `zero_division` parameter to control this behavior.\n",
            "  _warn_prf(average, modifier, msg_start, len(result))\n"
          ]
        }
      ]
    },
    {
      "cell_type": "markdown",
      "source": [
        "#Predicting Text"
      ],
      "metadata": {
        "id": "9yAihhfAL-5i"
      }
    },
    {
      "cell_type": "code",
      "source": [
        "predict = 'Ketua DPP Partai Golkar Ace Hasan Syadzily membalas tanggapan Sekretaris Tim koordinasi Relawan Pemenangan Pilpres 2024 PDI-P(TKRPP PDI-P) Deddy Yevri Sitorus yang menuding drama politik seperti sinetron justru banyak terjadi di lingkungan Presiden Joko Widodo (Jokowi). Ace meminta Deddy tidak membawa perasaan atas ucapan Jokowi yang menyinggung soal drama politik beberapa waktu terakhir.'\n",
        "#https://nasional.kompas.com/read/2023/11/07/13455011/golkar-bela-jokowi-yang-disindir-pdi-p-enggak-usah-baper\n",
        "predict = cleansing(predict)\n",
        "\n",
        "preprocessed_predict = lemmatize_and_stopwords(predict)"
      ],
      "metadata": {
        "id": "ZLlr4uxo-ciS"
      },
      "execution_count": 21,
      "outputs": []
    },
    {
      "cell_type": "code",
      "source": [
        "preprocessed_predict"
      ],
      "metadata": {
        "colab": {
          "base_uri": "https://localhost:8080/",
          "height": 52
        },
        "id": "ZiWLoLPvp6ZB",
        "outputId": "141dcad9-aaf8-469b-c5a3-f4d2fe269f31"
      },
      "execution_count": 22,
      "outputs": [
        {
          "output_type": "execute_result",
          "data": {
            "text/plain": [
              "'ketua dpp partai golkar ace hasan syadzily membalas tanggapan sekretaris tim koordinasi relawan pemenangan pilpres pdi p tkrpp pdi p deddy yevri sitorus menuding drama politik sinetron lingkungan presiden joko widodo jokowi ace deddy membawa perasaan ucapan jokowi menyinggung drama politik'"
            ],
            "application/vnd.google.colaboratory.intrinsic+json": {
              "type": "string"
            }
          },
          "metadata": {},
          "execution_count": 22
        }
      ]
    },
    {
      "cell_type": "code",
      "source": [
        "predict_tfidf_vectorized = tfidf_vectorizer.transform([preprocessed_predict])  # Use your pre-trained TF-IDF model\n",
        "\n",
        "# TF-IDF\n",
        "prediction_rf_tfidf = rf_classifier_tfidf.predict(predict_tfidf_vectorized)  # Use your pre-trained classifier\n",
        "prediction_svm_tfidf = svm_classifier_tfidf.predict(predict_tfidf_vectorized)\n",
        "print('TF-IDF:')\n",
        "print(f'Random Forests Model Predicted Category: {prediction_rf_tfidf}')\n",
        "print(f'SVM Model Predicted Category: {prediction_svm_tfidf}')\n",
        "print('')\n",
        "\n",
        "predict_count_vectorized = count_vectorizer.transform([preprocessed_predict])  # Use your pre-trained TF-IDF model\n",
        "\n",
        "# CV\n",
        "prediction_rf_count = rf_classifier_count.predict(predict_count_vectorized)  # Use your pre-trained classifier\n",
        "prediction_svm_count = svm_classifier_count.predict(predict_count_vectorized)\n",
        "print('Count Vectorizer:')\n",
        "print(f'Random Forests Model Predicted Category: {prediction_rf_count}')\n",
        "print(f'SVM Model Predicted Category: {prediction_svm_count}')"
      ],
      "metadata": {
        "colab": {
          "base_uri": "https://localhost:8080/"
        },
        "id": "f0dUq6N8BmZ7",
        "outputId": "2813cabf-2e73-43e1-f213-34da66cd175f"
      },
      "execution_count": 23,
      "outputs": [
        {
          "output_type": "stream",
          "name": "stdout",
          "text": [
            "TF-IDF:\n",
            "Random Forests Model Predicted Category: ['Politik']\n",
            "SVM Model Predicted Category: ['Politik']\n",
            "\n",
            "Count Vectorizer:\n",
            "Random Forests Model Predicted Category: ['Olahraga']\n",
            "SVM Model Predicted Category: ['Hiburan']\n"
          ]
        }
      ]
    },
    {
      "cell_type": "code",
      "source": [
        "predict_link = 'https://www.cnnindonesia.com/hiburan/20231108154726-220-1021598/5-perbedaan-manga-dan-anime-attack-on-titan-final-season-part-4'\n",
        "predict_link_media = 'CNN Indonesia'\n",
        "\n",
        "class_name2 = class_media(predict_link_media)\n",
        "text_content2 = extract_text_content(predict_link, class_name2)"
      ],
      "metadata": {
        "id": "LK5roL4DE0eJ"
      },
      "execution_count": 24,
      "outputs": []
    },
    {
      "cell_type": "code",
      "source": [
        "class_name2"
      ],
      "metadata": {
        "colab": {
          "base_uri": "https://localhost:8080/",
          "height": 35
        },
        "id": "kJqGYsOsNqBF",
        "outputId": "0d961ddb-18e1-487b-fd87-e190e240f8eb"
      },
      "execution_count": 25,
      "outputs": [
        {
          "output_type": "execute_result",
          "data": {
            "text/plain": [
              "'detail-text'"
            ],
            "application/vnd.google.colaboratory.intrinsic+json": {
              "type": "string"
            }
          },
          "metadata": {},
          "execution_count": 25
        }
      ]
    },
    {
      "cell_type": "code",
      "source": [
        "text_content2"
      ],
      "metadata": {
        "colab": {
          "base_uri": "https://localhost:8080/",
          "height": 122
        },
        "id": "0xnNJIhJHKJ2",
        "outputId": "704b74b1-4e32-4ce0-be11-1c2019d6daf6"
      },
      "execution_count": 26,
      "outputs": [
        {
          "output_type": "execute_result",
          "data": {
            "text/plain": [
              "'Artikel ini mengandung spoiler/beberan... Attack on Titanbenar-benar tamat usai animenya tamat pada 4 November lalu menyusul manganya yang tutup buku terlebih dulu pada 2021. Anime Attack on Titan dinilai sangat setia dalam mengikuti cerita versi manga. Sehingga, tidak ada perbedaan signifikan dalam alur ceritanya. ADVERTISEMENT SCROLL TO CONTINUE WITH CONTENT  Meski demikian, episode pemungkas Attack on Titan The Final Season Part 4 ternyata memiliki sedikit perbedaan dari karya aslinya. Salah satunya adalah percakapan terakhir antara Eren dengan salah satu sahabatnya, Armin. Hajime Isayama selaku kreator Attack on Titan memperbaiki dialog kedua karakter tersebut setelah dikritik oleh para penggemar.    Armin bertemu dengan Eren dalam sebuah memori setelah leher sahabatnya itu ditebas oleh Mikasa. Dalam memori itu, Eren menjelaskan kepada Armin alasannya melakukan Guncangan Bumi. Versi manga Attack on Titan, Armin kemudian kemudian berterima kasih kepada Eren karena rela menjadi penjahat demi menyelamatkan bangsa Eldia.  \"Eren, teirma kasih,\" kata Armin dalam versi manga. \"Kamu menjadi pembunuh massal demi kami. \"Aku berjanji tidak akan membiarkan kesalahan besar yang kamu buat menjadi sia-sia,\" sambung Armin. Percakapan ini kemudian diperbaiki dan diperpanjang dalam versi anime. Eren menjelaskan rencananya untuk menginjak 80 persen umat manusia kepada Armin. Armin pun berusaha untuk menghentikan niat sahabatnya itu sebelum terlambat, tapi Eren mengatakan rencana itu sudah pasti akan terjadi. Armin tetap berterima kasih kepada Eren. Bukan karena sahabatnya menjadi pembunuh, tapi karena telah menunjukkan dunia luar di balik tembok pulau Paradis. \"Terima kasih Eren karena telah menunjukkan apa yang ada di balik tembok, karena telah menunjukkan kepadaku pemandangan ini,\" kata Armin kepada Eren. Masih di momen Eren dan Armin mengobrol dalam memori. Obrolan sepasang sahabat itu terlihat selalu berubah latar dan waktu, dimulai dari ketika mereka masih bocah hingga remaja. Di momen terakhir, keduanya berbincang di tanah hasil injakan ribuan titan yang menewaskan manusia tanpa pandang bulu. Ini terlihat dalam versi manga.   Namun, versi anime menunjukkan pemandangan yang sedikit berbeda, yaitu hasil injakan kaki titan itu digenangi darah manusia yang menjadi korban Eren. Eren kemudian mengambil segenggam rambut dan tulang manusia. Ia tampak menyesali perbuatannya. Sedangkan Armin mengambil kerang yang kemudian diberikan kepada Eren dan berjanji untuk menyusul Eren di neraka. Lanjut ke sebelah... Artikel ini mengandung spoiler/beberan...  Attack on Titanbenar-benar tamat usai animenya tamat pada 4 November lalu menyusul manganya yang tutup buku terlebih dulu pada 2021.  Anime Attack on Titan dinilai sangat setia dalam mengikuti cerita versi manga. Sehingga, tidak ada perbedaan signifikan dalam alur ceritanya.  ADVERTISEMENT  SCROLL TO CONTINUE WITH CONTENT    Meski demikian, episode pemungkas Attack on Titan The Final Season Part 4 ternyata memiliki sedikit perbedaan dari karya aslinya.  Salah satunya adalah percakapan terakhir antara Eren dengan salah satu sahabatnya, Armin. Hajime Isayama selaku kreator Attack on Titan memperbaiki dialog kedua karakter tersebut setelah dikritik oleh para penggemar.        Armin bertemu dengan Eren dalam sebuah memori setelah leher sahabatnya itu ditebas oleh Mikasa. Dalam memori itu, Eren menjelaskan kepada Armin alasannya melakukan Guncangan Bumi.  Versi manga Attack on Titan, Armin kemudian kemudian berterima kasih kepada Eren karena rela menjadi penjahat demi menyelamatkan bangsa Eldia.    \"Eren, teirma kasih,\" kata Armin dalam versi manga. \"Kamu menjadi pembunuh massal demi kami.  \"Aku berjanji tidak akan membiarkan kesalahan besar yang kamu buat menjadi sia-sia,\" sambung Armin.  Percakapan ini kemudian diperbaiki dan diperpanjang dalam versi anime. Eren menjelaskan rencananya untuk menginjak 80 persen umat manusia kepada Armin.  Armin pun berusaha untuk menghentikan niat sahabatnya itu sebelum terlambat, tapi Eren mengatakan rencana itu sudah pasti akan terjadi.  Armin tetap berterima kasih kepada Eren. Bukan karena sahabatnya menjadi pembunuh, tapi karena telah menunjukkan dunia luar di balik tembok pulau Paradis.  \"Terima kasih Eren karena telah menunjukkan apa yang ada di balik tembok, karena telah menunjukkan kepadaku pemandangan ini,\" kata Armin kepada Eren.  Masih di momen Eren dan Armin mengobrol dalam memori. Obrolan sepasang sahabat itu terlihat selalu berubah latar dan waktu, dimulai dari ketika mereka masih bocah hingga remaja.  Di momen terakhir, keduanya berbincang di tanah hasil injakan ribuan titan yang menewaskan manusia tanpa pandang bulu. Ini terlihat dalam versi manga.      Namun, versi anime menunjukkan pemandangan yang sedikit berbeda, yaitu hasil injakan kaki titan itu digenangi darah manusia yang menjadi korban Eren.  Eren kemudian mengambil segenggam rambut dan tulang manusia. Ia tampak menyesali perbuatannya. Sedangkan Armin mengambil kerang yang kemudian diberikan kepada Eren dan berjanji untuk menyusul Eren di neraka.  Lanjut ke sebelah... '"
            ],
            "application/vnd.google.colaboratory.intrinsic+json": {
              "type": "string"
            }
          },
          "metadata": {},
          "execution_count": 26
        }
      ]
    },
    {
      "cell_type": "code",
      "source": [
        "data_predict = cleansing(text_content2)\n",
        "preprocessed_predict2 = lemmatize_and_stopwords(data_predict)\n",
        "predict_tfidf_vectorized2 = tfidf_vectorizer.transform([preprocessed_predict2])\n",
        "\n",
        "# TF-IDF\n",
        "prediction_rf_tfidf2 = rf_classifier_tfidf.predict(predict_tfidf_vectorized2)\n",
        "prediction_svm_tfidf2 = svm_classifier_tfidf.predict(predict_tfidf_vectorized2)\n",
        "print('TF-IDF:')\n",
        "print(f'Random Forests Model Predicted Category: {prediction_rf_tfidf2}')\n",
        "print(f'SVM Model Predicted Category: {prediction_svm_tfidf2}')\n",
        "print('')\n",
        "\n",
        "predict_count_vectorized2 = count_vectorizer.transform([preprocessed_predict2])\n",
        "\n",
        "# CV\n",
        "prediction_rf_count2 = rf_classifier_count.predict(predict_count_vectorized2)\n",
        "prediction_svm_count2 = svm_classifier_count.predict(predict_count_vectorized2)\n",
        "print('Count Vectorizer:')\n",
        "print(f'Random Forests Model Predicted Category: {prediction_rf_count2}')\n",
        "print(f'SVM Model Predicted Category: {prediction_svm_count2}')"
      ],
      "metadata": {
        "colab": {
          "base_uri": "https://localhost:8080/"
        },
        "id": "D8o1RVflJ3As",
        "outputId": "5be2ba0e-a759-48df-a98f-a91c96b8ca92"
      },
      "execution_count": 27,
      "outputs": [
        {
          "output_type": "stream",
          "name": "stdout",
          "text": [
            "TF-IDF:\n",
            "Random Forests Model Predicted Category: ['Hiburan']\n",
            "SVM Model Predicted Category: ['Hiburan']\n",
            "\n",
            "Count Vectorizer:\n",
            "Random Forests Model Predicted Category: ['Hiburan']\n",
            "SVM Model Predicted Category: ['Hiburan']\n"
          ]
        }
      ]
    },
    {
      "cell_type": "markdown",
      "source": [
        "Reference:\n",
        "https://www.kaggle.com/code/adamschroeder/countvectorizer-tfidfvectorizer-predict-comments"
      ],
      "metadata": {
        "id": "R8vUXGSS8YVD"
      }
    },
    {
      "cell_type": "code",
      "source": [
        "data_predict"
      ],
      "metadata": {
        "colab": {
          "base_uri": "https://localhost:8080/",
          "height": 122
        },
        "id": "QKVz8jROHMfY",
        "outputId": "1a4ce103-3233-46e1-89c1-b4ba53f3ecb1"
      },
      "execution_count": 28,
      "outputs": [
        {
          "output_type": "execute_result",
          "data": {
            "text/plain": [
              "'artikel ini mengandung spoiler beberan attack on titanbenar benar tamat usai animenya tamat pada november lalu menyusul manganya yang tutup buku terlebih dulu pada anime attack on titan dinilai sangat setia dalam mengikuti cerita versi manga sehingga tidak ada perbedaan signifikan dalam alur ceritanya   meski demikian episode pemungkas attack on titan the final season part ternyata memiliki sedikit perbedaan dari karya aslinya salah satunya adalah percakapan terakhir antara eren dengan salah satu sahabatnya armin hajime isayama selaku kreator attack on titan memperbaiki dialog kedua karakter tersebut setelah dikritik oleh para penggemar armin bertemu dengan eren dalam sebuah memori setelah leher sahabatnya itu ditebas oleh mikasa dalam memori itu eren menjelaskan kepada armin alasannya melakukan guncangan bumi versi manga attack on titan armin kemudian kemudian berterima kasih kepada eren karena rela menjadi penjahat demi menyelamatkan bangsa eldia eren teirma kasih kata armin dalam versi manga kamu menjadi pembunuh massal demi kami aku berjanji tidak akan membiarkan kesalahan besar yang kamu buat menjadi sia sia sambung armin percakapan ini kemudian diperbaiki dan diperpanjang dalam versi anime eren menjelaskan rencananya untuk menginjak persen umat manusia kepada armin armin pun berusaha untuk menghentikan niat sahabatnya itu sebelum terlambat tapi eren mengatakan rencana itu sudah pasti akan terjadi armin tetap berterima kasih kepada eren bukan karena sahabatnya menjadi pembunuh tapi karena telah menunjukkan dunia luar di balik tembok pulau paradis terima kasih eren karena telah menunjukkan apa yang ada di balik tembok karena telah menunjukkan kepadaku pemandangan ini kata armin kepada eren masih di momen eren dan armin mengobrol dalam memori obrolan sepasang sahabat itu terlihat selalu berubah latar dan waktu dimulai dari ketika mereka masih bocah hingga remaja di momen terakhir keduanya berbincang di tanah hasil injakan ribuan titan yang menewaskan manusia tanpa pandang bulu ini terlihat dalam versi manga namun versi anime menunjukkan pemandangan yang sedikit berbeda yaitu hasil injakan kaki titan itu digenangi darah manusia yang menjadi korban eren eren kemudian mengambil segenggam rambut dan tulang manusia ia tampak menyesali perbuatannya sedangkan armin mengambil kerang yang kemudian diberikan kepada eren dan berjanji untuk menyusul eren di neraka lanjut ke sebelah artikel ini mengandung spoiler beberan attack on titanbenar benar tamat usai animenya tamat pada november lalu menyusul manganya yang tutup buku terlebih dulu pada anime attack on titan dinilai sangat setia dalam mengikuti cerita versi manga sehingga tidak ada perbedaan signifikan dalam alur ceritanya   meski demikian episode pemungkas attack on titan the final season part ternyata memiliki sedikit perbedaan dari karya aslinya salah satunya adalah percakapan terakhir antara eren dengan salah satu sahabatnya armin hajime isayama selaku kreator attack on titan memperbaiki dialog kedua karakter tersebut setelah dikritik oleh para penggemar armin bertemu dengan eren dalam sebuah memori setelah leher sahabatnya itu ditebas oleh mikasa dalam memori itu eren menjelaskan kepada armin alasannya melakukan guncangan bumi versi manga attack on titan armin kemudian kemudian berterima kasih kepada eren karena rela menjadi penjahat demi menyelamatkan bangsa eldia eren teirma kasih kata armin dalam versi manga kamu menjadi pembunuh massal demi kami aku berjanji tidak akan membiarkan kesalahan besar yang kamu buat menjadi sia sia sambung armin percakapan ini kemudian diperbaiki dan diperpanjang dalam versi anime eren menjelaskan rencananya untuk menginjak persen umat manusia kepada armin armin pun berusaha untuk menghentikan niat sahabatnya itu sebelum terlambat tapi eren mengatakan rencana itu sudah pasti akan terjadi armin tetap berterima kasih kepada eren bukan karena sahabatnya menjadi pembunuh tapi karena telah menunjukkan dunia luar di balik tembok pulau paradis terima kasih eren karena telah menunjukkan apa yang ada di balik tembok karena telah menunjukkan kepadaku pemandangan ini kata armin kepada eren masih di momen eren dan armin mengobrol dalam memori obrolan sepasang sahabat itu terlihat selalu berubah latar dan waktu dimulai dari ketika mereka masih bocah hingga remaja di momen terakhir keduanya berbincang di tanah hasil injakan ribuan titan yang menewaskan manusia tanpa pandang bulu ini terlihat dalam versi manga namun versi anime menunjukkan pemandangan yang sedikit berbeda yaitu hasil injakan kaki titan itu digenangi darah manusia yang menjadi korban eren eren kemudian mengambil segenggam rambut dan tulang manusia ia tampak menyesali perbuatannya sedangkan armin mengambil kerang yang kemudian diberikan kepada eren dan berjanji untuk menyusul eren di neraka lanjut ke sebelah'"
            ],
            "application/vnd.google.colaboratory.intrinsic+json": {
              "type": "string"
            }
          },
          "metadata": {},
          "execution_count": 28
        }
      ]
    }
  ]
}